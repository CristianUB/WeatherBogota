{
  "nbformat": 4,
  "nbformat_minor": 0,
  "metadata": {
    "colab": {
      "provenance": []
    },
    "kernelspec": {
      "name": "python3",
      "display_name": "Python 3"
    },
    "language_info": {
      "name": "python"
    },
    "widgets": {
      "application/vnd.jupyter.widget-state+json": {
        "73e865f483b448049d9e61ac4a675b08": {
          "model_module": "@jupyter-widgets/controls",
          "model_name": "VBoxModel",
          "model_module_version": "1.5.0",
          "state": {
            "_dom_classes": [],
            "_model_module": "@jupyter-widgets/controls",
            "_model_module_version": "1.5.0",
            "_model_name": "VBoxModel",
            "_view_count": null,
            "_view_module": "@jupyter-widgets/controls",
            "_view_module_version": "1.5.0",
            "_view_name": "VBoxView",
            "box_style": "",
            "children": [
              "IPY_MODEL_270c60ecc59344b5a2a1fd3e44f0f0f5",
              "IPY_MODEL_cbba5c724937492d83a8e2ab58441982",
              "IPY_MODEL_7f60ee46e8cd495b821b3539ad4740d0"
            ],
            "layout": "IPY_MODEL_413dab19cab94a829fde50ec5e1aa6a2"
          }
        },
        "270c60ecc59344b5a2a1fd3e44f0f0f5": {
          "model_module": "@jupyter-widgets/controls",
          "model_name": "IntSliderModel",
          "model_module_version": "1.5.0",
          "state": {
            "_dom_classes": [],
            "_model_module": "@jupyter-widgets/controls",
            "_model_module_version": "1.5.0",
            "_model_name": "IntSliderModel",
            "_view_count": null,
            "_view_module": "@jupyter-widgets/controls",
            "_view_module_version": "1.5.0",
            "_view_name": "IntSliderView",
            "continuous_update": true,
            "description": "Año inicio",
            "description_tooltip": null,
            "disabled": false,
            "layout": "IPY_MODEL_0fb7ea39f45c4eb3ac9262ae4ac24f05",
            "max": 2025,
            "min": 2000,
            "orientation": "horizontal",
            "readout": true,
            "readout_format": "d",
            "step": 1,
            "style": "IPY_MODEL_0c906e84bcb54f5fb0cd3e1312dd9f8c",
            "value": 2022
          }
        },
        "cbba5c724937492d83a8e2ab58441982": {
          "model_module": "@jupyter-widgets/controls",
          "model_name": "IntSliderModel",
          "model_module_version": "1.5.0",
          "state": {
            "_dom_classes": [],
            "_model_module": "@jupyter-widgets/controls",
            "_model_module_version": "1.5.0",
            "_model_name": "IntSliderModel",
            "_view_count": null,
            "_view_module": "@jupyter-widgets/controls",
            "_view_module_version": "1.5.0",
            "_view_name": "IntSliderView",
            "continuous_update": true,
            "description": "Año fin",
            "description_tooltip": null,
            "disabled": false,
            "layout": "IPY_MODEL_b69dc7da2eb04ed19633784a6051c01c",
            "max": 2025,
            "min": 2000,
            "orientation": "horizontal",
            "readout": true,
            "readout_format": "d",
            "step": 1,
            "style": "IPY_MODEL_69048c9d92f945dcbd8598b43fad4678",
            "value": 2023
          }
        },
        "7f60ee46e8cd495b821b3539ad4740d0": {
          "model_module": "@jupyter-widgets/controls",
          "model_name": "ButtonModel",
          "model_module_version": "1.5.0",
          "state": {
            "_dom_classes": [],
            "_model_module": "@jupyter-widgets/controls",
            "_model_module_version": "1.5.0",
            "_model_name": "ButtonModel",
            "_view_count": null,
            "_view_module": "@jupyter-widgets/controls",
            "_view_module_version": "1.5.0",
            "_view_name": "ButtonView",
            "button_style": "",
            "description": "Cargar datos",
            "disabled": false,
            "icon": "",
            "layout": "IPY_MODEL_21deabb5a32f4286ad2ccf02acca4bf4",
            "style": "IPY_MODEL_0a9130024599494d929ccabe31b55a86",
            "tooltip": ""
          }
        },
        "413dab19cab94a829fde50ec5e1aa6a2": {
          "model_module": "@jupyter-widgets/base",
          "model_name": "LayoutModel",
          "model_module_version": "1.2.0",
          "state": {
            "_model_module": "@jupyter-widgets/base",
            "_model_module_version": "1.2.0",
            "_model_name": "LayoutModel",
            "_view_count": null,
            "_view_module": "@jupyter-widgets/base",
            "_view_module_version": "1.2.0",
            "_view_name": "LayoutView",
            "align_content": null,
            "align_items": null,
            "align_self": null,
            "border": null,
            "bottom": null,
            "display": null,
            "flex": null,
            "flex_flow": null,
            "grid_area": null,
            "grid_auto_columns": null,
            "grid_auto_flow": null,
            "grid_auto_rows": null,
            "grid_column": null,
            "grid_gap": null,
            "grid_row": null,
            "grid_template_areas": null,
            "grid_template_columns": null,
            "grid_template_rows": null,
            "height": null,
            "justify_content": null,
            "justify_items": null,
            "left": null,
            "margin": null,
            "max_height": null,
            "max_width": null,
            "min_height": null,
            "min_width": null,
            "object_fit": null,
            "object_position": null,
            "order": null,
            "overflow": null,
            "overflow_x": null,
            "overflow_y": null,
            "padding": null,
            "right": null,
            "top": null,
            "visibility": null,
            "width": null
          }
        },
        "0fb7ea39f45c4eb3ac9262ae4ac24f05": {
          "model_module": "@jupyter-widgets/base",
          "model_name": "LayoutModel",
          "model_module_version": "1.2.0",
          "state": {
            "_model_module": "@jupyter-widgets/base",
            "_model_module_version": "1.2.0",
            "_model_name": "LayoutModel",
            "_view_count": null,
            "_view_module": "@jupyter-widgets/base",
            "_view_module_version": "1.2.0",
            "_view_name": "LayoutView",
            "align_content": null,
            "align_items": null,
            "align_self": null,
            "border": null,
            "bottom": null,
            "display": null,
            "flex": null,
            "flex_flow": null,
            "grid_area": null,
            "grid_auto_columns": null,
            "grid_auto_flow": null,
            "grid_auto_rows": null,
            "grid_column": null,
            "grid_gap": null,
            "grid_row": null,
            "grid_template_areas": null,
            "grid_template_columns": null,
            "grid_template_rows": null,
            "height": null,
            "justify_content": null,
            "justify_items": null,
            "left": null,
            "margin": null,
            "max_height": null,
            "max_width": null,
            "min_height": null,
            "min_width": null,
            "object_fit": null,
            "object_position": null,
            "order": null,
            "overflow": null,
            "overflow_x": null,
            "overflow_y": null,
            "padding": null,
            "right": null,
            "top": null,
            "visibility": null,
            "width": null
          }
        },
        "0c906e84bcb54f5fb0cd3e1312dd9f8c": {
          "model_module": "@jupyter-widgets/controls",
          "model_name": "SliderStyleModel",
          "model_module_version": "1.5.0",
          "state": {
            "_model_module": "@jupyter-widgets/controls",
            "_model_module_version": "1.5.0",
            "_model_name": "SliderStyleModel",
            "_view_count": null,
            "_view_module": "@jupyter-widgets/base",
            "_view_module_version": "1.2.0",
            "_view_name": "StyleView",
            "description_width": "",
            "handle_color": null
          }
        },
        "b69dc7da2eb04ed19633784a6051c01c": {
          "model_module": "@jupyter-widgets/base",
          "model_name": "LayoutModel",
          "model_module_version": "1.2.0",
          "state": {
            "_model_module": "@jupyter-widgets/base",
            "_model_module_version": "1.2.0",
            "_model_name": "LayoutModel",
            "_view_count": null,
            "_view_module": "@jupyter-widgets/base",
            "_view_module_version": "1.2.0",
            "_view_name": "LayoutView",
            "align_content": null,
            "align_items": null,
            "align_self": null,
            "border": null,
            "bottom": null,
            "display": null,
            "flex": null,
            "flex_flow": null,
            "grid_area": null,
            "grid_auto_columns": null,
            "grid_auto_flow": null,
            "grid_auto_rows": null,
            "grid_column": null,
            "grid_gap": null,
            "grid_row": null,
            "grid_template_areas": null,
            "grid_template_columns": null,
            "grid_template_rows": null,
            "height": null,
            "justify_content": null,
            "justify_items": null,
            "left": null,
            "margin": null,
            "max_height": null,
            "max_width": null,
            "min_height": null,
            "min_width": null,
            "object_fit": null,
            "object_position": null,
            "order": null,
            "overflow": null,
            "overflow_x": null,
            "overflow_y": null,
            "padding": null,
            "right": null,
            "top": null,
            "visibility": null,
            "width": null
          }
        },
        "69048c9d92f945dcbd8598b43fad4678": {
          "model_module": "@jupyter-widgets/controls",
          "model_name": "SliderStyleModel",
          "model_module_version": "1.5.0",
          "state": {
            "_model_module": "@jupyter-widgets/controls",
            "_model_module_version": "1.5.0",
            "_model_name": "SliderStyleModel",
            "_view_count": null,
            "_view_module": "@jupyter-widgets/base",
            "_view_module_version": "1.2.0",
            "_view_name": "StyleView",
            "description_width": "",
            "handle_color": null
          }
        },
        "21deabb5a32f4286ad2ccf02acca4bf4": {
          "model_module": "@jupyter-widgets/base",
          "model_name": "LayoutModel",
          "model_module_version": "1.2.0",
          "state": {
            "_model_module": "@jupyter-widgets/base",
            "_model_module_version": "1.2.0",
            "_model_name": "LayoutModel",
            "_view_count": null,
            "_view_module": "@jupyter-widgets/base",
            "_view_module_version": "1.2.0",
            "_view_name": "LayoutView",
            "align_content": null,
            "align_items": null,
            "align_self": null,
            "border": null,
            "bottom": null,
            "display": null,
            "flex": null,
            "flex_flow": null,
            "grid_area": null,
            "grid_auto_columns": null,
            "grid_auto_flow": null,
            "grid_auto_rows": null,
            "grid_column": null,
            "grid_gap": null,
            "grid_row": null,
            "grid_template_areas": null,
            "grid_template_columns": null,
            "grid_template_rows": null,
            "height": null,
            "justify_content": null,
            "justify_items": null,
            "left": null,
            "margin": null,
            "max_height": null,
            "max_width": null,
            "min_height": null,
            "min_width": null,
            "object_fit": null,
            "object_position": null,
            "order": null,
            "overflow": null,
            "overflow_x": null,
            "overflow_y": null,
            "padding": null,
            "right": null,
            "top": null,
            "visibility": null,
            "width": null
          }
        },
        "0a9130024599494d929ccabe31b55a86": {
          "model_module": "@jupyter-widgets/controls",
          "model_name": "ButtonStyleModel",
          "model_module_version": "1.5.0",
          "state": {
            "_model_module": "@jupyter-widgets/controls",
            "_model_module_version": "1.5.0",
            "_model_name": "ButtonStyleModel",
            "_view_count": null,
            "_view_module": "@jupyter-widgets/base",
            "_view_module_version": "1.2.0",
            "_view_name": "StyleView",
            "button_color": null,
            "font_weight": ""
          }
        }
      }
    }
  },
  "cells": [
    {
      "cell_type": "code",
      "execution_count": 3,
      "metadata": {
        "colab": {
          "base_uri": "https://localhost:8080/",
          "height": 1000,
          "referenced_widgets": [
            "73e865f483b448049d9e61ac4a675b08",
            "270c60ecc59344b5a2a1fd3e44f0f0f5",
            "cbba5c724937492d83a8e2ab58441982",
            "7f60ee46e8cd495b821b3539ad4740d0",
            "413dab19cab94a829fde50ec5e1aa6a2",
            "0fb7ea39f45c4eb3ac9262ae4ac24f05",
            "0c906e84bcb54f5fb0cd3e1312dd9f8c",
            "b69dc7da2eb04ed19633784a6051c01c",
            "69048c9d92f945dcbd8598b43fad4678",
            "21deabb5a32f4286ad2ccf02acca4bf4",
            "0a9130024599494d929ccabe31b55a86"
          ]
        },
        "id": "iWSzvWN723br",
        "outputId": "21ffd54f-9b60-4a06-9120-47d04442976f"
      },
      "outputs": [
        {
          "output_type": "stream",
          "name": "stdout",
          "text": [
            "Descargando: https://www.tutiempo.net/clima/01-2022/ws-802220.html\n"
          ]
        },
        {
          "output_type": "stream",
          "name": "stderr",
          "text": [
            "<ipython-input-3-9fe9c287e6c2>:27: DeprecationWarning: Call to deprecated method findAll. (Replaced by find_all) -- Deprecated since version 4.0.0.\n",
            "  titles = [th.get_text(strip=True) for th in table.findAll(\"th\")]\n",
            "<ipython-input-3-9fe9c287e6c2>:28: DeprecationWarning: Call to deprecated method findAll. (Replaced by find_all) -- Deprecated since version 4.0.0.\n",
            "  rows = table.findAll(\"tr\")[1:]\n",
            "<ipython-input-3-9fe9c287e6c2>:32: DeprecationWarning: Call to deprecated method findAll. (Replaced by find_all) -- Deprecated since version 4.0.0.\n",
            "  cells = row.findAll(\"td\")\n"
          ]
        },
        {
          "output_type": "stream",
          "name": "stdout",
          "text": [
            "Descargando: https://www.tutiempo.net/clima/02-2022/ws-802220.html\n"
          ]
        },
        {
          "output_type": "stream",
          "name": "stderr",
          "text": [
            "<ipython-input-3-9fe9c287e6c2>:27: DeprecationWarning: Call to deprecated method findAll. (Replaced by find_all) -- Deprecated since version 4.0.0.\n",
            "  titles = [th.get_text(strip=True) for th in table.findAll(\"th\")]\n",
            "<ipython-input-3-9fe9c287e6c2>:28: DeprecationWarning: Call to deprecated method findAll. (Replaced by find_all) -- Deprecated since version 4.0.0.\n",
            "  rows = table.findAll(\"tr\")[1:]\n",
            "<ipython-input-3-9fe9c287e6c2>:32: DeprecationWarning: Call to deprecated method findAll. (Replaced by find_all) -- Deprecated since version 4.0.0.\n",
            "  cells = row.findAll(\"td\")\n"
          ]
        },
        {
          "output_type": "stream",
          "name": "stdout",
          "text": [
            "Descargando: https://www.tutiempo.net/clima/03-2022/ws-802220.html\n"
          ]
        },
        {
          "output_type": "stream",
          "name": "stderr",
          "text": [
            "<ipython-input-3-9fe9c287e6c2>:27: DeprecationWarning: Call to deprecated method findAll. (Replaced by find_all) -- Deprecated since version 4.0.0.\n",
            "  titles = [th.get_text(strip=True) for th in table.findAll(\"th\")]\n",
            "<ipython-input-3-9fe9c287e6c2>:28: DeprecationWarning: Call to deprecated method findAll. (Replaced by find_all) -- Deprecated since version 4.0.0.\n",
            "  rows = table.findAll(\"tr\")[1:]\n",
            "<ipython-input-3-9fe9c287e6c2>:32: DeprecationWarning: Call to deprecated method findAll. (Replaced by find_all) -- Deprecated since version 4.0.0.\n",
            "  cells = row.findAll(\"td\")\n"
          ]
        },
        {
          "output_type": "stream",
          "name": "stdout",
          "text": [
            "Descargando: https://www.tutiempo.net/clima/04-2022/ws-802220.html\n"
          ]
        },
        {
          "output_type": "stream",
          "name": "stderr",
          "text": [
            "<ipython-input-3-9fe9c287e6c2>:27: DeprecationWarning: Call to deprecated method findAll. (Replaced by find_all) -- Deprecated since version 4.0.0.\n",
            "  titles = [th.get_text(strip=True) for th in table.findAll(\"th\")]\n",
            "<ipython-input-3-9fe9c287e6c2>:28: DeprecationWarning: Call to deprecated method findAll. (Replaced by find_all) -- Deprecated since version 4.0.0.\n",
            "  rows = table.findAll(\"tr\")[1:]\n",
            "<ipython-input-3-9fe9c287e6c2>:32: DeprecationWarning: Call to deprecated method findAll. (Replaced by find_all) -- Deprecated since version 4.0.0.\n",
            "  cells = row.findAll(\"td\")\n"
          ]
        },
        {
          "output_type": "stream",
          "name": "stdout",
          "text": [
            "Descargando: https://www.tutiempo.net/clima/05-2022/ws-802220.html\n"
          ]
        },
        {
          "output_type": "stream",
          "name": "stderr",
          "text": [
            "<ipython-input-3-9fe9c287e6c2>:27: DeprecationWarning: Call to deprecated method findAll. (Replaced by find_all) -- Deprecated since version 4.0.0.\n",
            "  titles = [th.get_text(strip=True) for th in table.findAll(\"th\")]\n",
            "<ipython-input-3-9fe9c287e6c2>:28: DeprecationWarning: Call to deprecated method findAll. (Replaced by find_all) -- Deprecated since version 4.0.0.\n",
            "  rows = table.findAll(\"tr\")[1:]\n",
            "<ipython-input-3-9fe9c287e6c2>:32: DeprecationWarning: Call to deprecated method findAll. (Replaced by find_all) -- Deprecated since version 4.0.0.\n",
            "  cells = row.findAll(\"td\")\n"
          ]
        },
        {
          "output_type": "stream",
          "name": "stdout",
          "text": [
            "Descargando: https://www.tutiempo.net/clima/06-2022/ws-802220.html\n"
          ]
        },
        {
          "output_type": "stream",
          "name": "stderr",
          "text": [
            "<ipython-input-3-9fe9c287e6c2>:27: DeprecationWarning: Call to deprecated method findAll. (Replaced by find_all) -- Deprecated since version 4.0.0.\n",
            "  titles = [th.get_text(strip=True) for th in table.findAll(\"th\")]\n",
            "<ipython-input-3-9fe9c287e6c2>:28: DeprecationWarning: Call to deprecated method findAll. (Replaced by find_all) -- Deprecated since version 4.0.0.\n",
            "  rows = table.findAll(\"tr\")[1:]\n",
            "<ipython-input-3-9fe9c287e6c2>:32: DeprecationWarning: Call to deprecated method findAll. (Replaced by find_all) -- Deprecated since version 4.0.0.\n",
            "  cells = row.findAll(\"td\")\n"
          ]
        },
        {
          "output_type": "stream",
          "name": "stdout",
          "text": [
            "Descargando: https://www.tutiempo.net/clima/07-2022/ws-802220.html\n"
          ]
        },
        {
          "output_type": "stream",
          "name": "stderr",
          "text": [
            "<ipython-input-3-9fe9c287e6c2>:27: DeprecationWarning: Call to deprecated method findAll. (Replaced by find_all) -- Deprecated since version 4.0.0.\n",
            "  titles = [th.get_text(strip=True) for th in table.findAll(\"th\")]\n",
            "<ipython-input-3-9fe9c287e6c2>:28: DeprecationWarning: Call to deprecated method findAll. (Replaced by find_all) -- Deprecated since version 4.0.0.\n",
            "  rows = table.findAll(\"tr\")[1:]\n",
            "<ipython-input-3-9fe9c287e6c2>:32: DeprecationWarning: Call to deprecated method findAll. (Replaced by find_all) -- Deprecated since version 4.0.0.\n",
            "  cells = row.findAll(\"td\")\n"
          ]
        },
        {
          "output_type": "stream",
          "name": "stdout",
          "text": [
            "Descargando: https://www.tutiempo.net/clima/08-2022/ws-802220.html\n"
          ]
        },
        {
          "output_type": "stream",
          "name": "stderr",
          "text": [
            "<ipython-input-3-9fe9c287e6c2>:27: DeprecationWarning: Call to deprecated method findAll. (Replaced by find_all) -- Deprecated since version 4.0.0.\n",
            "  titles = [th.get_text(strip=True) for th in table.findAll(\"th\")]\n",
            "<ipython-input-3-9fe9c287e6c2>:28: DeprecationWarning: Call to deprecated method findAll. (Replaced by find_all) -- Deprecated since version 4.0.0.\n",
            "  rows = table.findAll(\"tr\")[1:]\n",
            "<ipython-input-3-9fe9c287e6c2>:32: DeprecationWarning: Call to deprecated method findAll. (Replaced by find_all) -- Deprecated since version 4.0.0.\n",
            "  cells = row.findAll(\"td\")\n"
          ]
        },
        {
          "output_type": "stream",
          "name": "stdout",
          "text": [
            "Descargando: https://www.tutiempo.net/clima/09-2022/ws-802220.html\n"
          ]
        },
        {
          "output_type": "stream",
          "name": "stderr",
          "text": [
            "<ipython-input-3-9fe9c287e6c2>:27: DeprecationWarning: Call to deprecated method findAll. (Replaced by find_all) -- Deprecated since version 4.0.0.\n",
            "  titles = [th.get_text(strip=True) for th in table.findAll(\"th\")]\n",
            "<ipython-input-3-9fe9c287e6c2>:28: DeprecationWarning: Call to deprecated method findAll. (Replaced by find_all) -- Deprecated since version 4.0.0.\n",
            "  rows = table.findAll(\"tr\")[1:]\n",
            "<ipython-input-3-9fe9c287e6c2>:32: DeprecationWarning: Call to deprecated method findAll. (Replaced by find_all) -- Deprecated since version 4.0.0.\n",
            "  cells = row.findAll(\"td\")\n"
          ]
        },
        {
          "output_type": "stream",
          "name": "stdout",
          "text": [
            "Descargando: https://www.tutiempo.net/clima/10-2022/ws-802220.html\n"
          ]
        },
        {
          "output_type": "stream",
          "name": "stderr",
          "text": [
            "<ipython-input-3-9fe9c287e6c2>:27: DeprecationWarning: Call to deprecated method findAll. (Replaced by find_all) -- Deprecated since version 4.0.0.\n",
            "  titles = [th.get_text(strip=True) for th in table.findAll(\"th\")]\n",
            "<ipython-input-3-9fe9c287e6c2>:28: DeprecationWarning: Call to deprecated method findAll. (Replaced by find_all) -- Deprecated since version 4.0.0.\n",
            "  rows = table.findAll(\"tr\")[1:]\n",
            "<ipython-input-3-9fe9c287e6c2>:32: DeprecationWarning: Call to deprecated method findAll. (Replaced by find_all) -- Deprecated since version 4.0.0.\n",
            "  cells = row.findAll(\"td\")\n"
          ]
        },
        {
          "output_type": "stream",
          "name": "stdout",
          "text": [
            "Descargando: https://www.tutiempo.net/clima/11-2022/ws-802220.html\n"
          ]
        },
        {
          "output_type": "stream",
          "name": "stderr",
          "text": [
            "<ipython-input-3-9fe9c287e6c2>:27: DeprecationWarning: Call to deprecated method findAll. (Replaced by find_all) -- Deprecated since version 4.0.0.\n",
            "  titles = [th.get_text(strip=True) for th in table.findAll(\"th\")]\n",
            "<ipython-input-3-9fe9c287e6c2>:28: DeprecationWarning: Call to deprecated method findAll. (Replaced by find_all) -- Deprecated since version 4.0.0.\n",
            "  rows = table.findAll(\"tr\")[1:]\n",
            "<ipython-input-3-9fe9c287e6c2>:32: DeprecationWarning: Call to deprecated method findAll. (Replaced by find_all) -- Deprecated since version 4.0.0.\n",
            "  cells = row.findAll(\"td\")\n"
          ]
        },
        {
          "output_type": "stream",
          "name": "stdout",
          "text": [
            "Descargando: https://www.tutiempo.net/clima/12-2022/ws-802220.html\n"
          ]
        },
        {
          "output_type": "stream",
          "name": "stderr",
          "text": [
            "<ipython-input-3-9fe9c287e6c2>:27: DeprecationWarning: Call to deprecated method findAll. (Replaced by find_all) -- Deprecated since version 4.0.0.\n",
            "  titles = [th.get_text(strip=True) for th in table.findAll(\"th\")]\n",
            "<ipython-input-3-9fe9c287e6c2>:28: DeprecationWarning: Call to deprecated method findAll. (Replaced by find_all) -- Deprecated since version 4.0.0.\n",
            "  rows = table.findAll(\"tr\")[1:]\n",
            "<ipython-input-3-9fe9c287e6c2>:32: DeprecationWarning: Call to deprecated method findAll. (Replaced by find_all) -- Deprecated since version 4.0.0.\n",
            "  cells = row.findAll(\"td\")\n"
          ]
        },
        {
          "output_type": "stream",
          "name": "stdout",
          "text": [
            "Descargando: https://www.tutiempo.net/clima/01-2023/ws-802220.html\n"
          ]
        },
        {
          "output_type": "stream",
          "name": "stderr",
          "text": [
            "<ipython-input-3-9fe9c287e6c2>:27: DeprecationWarning: Call to deprecated method findAll. (Replaced by find_all) -- Deprecated since version 4.0.0.\n",
            "  titles = [th.get_text(strip=True) for th in table.findAll(\"th\")]\n",
            "<ipython-input-3-9fe9c287e6c2>:28: DeprecationWarning: Call to deprecated method findAll. (Replaced by find_all) -- Deprecated since version 4.0.0.\n",
            "  rows = table.findAll(\"tr\")[1:]\n",
            "<ipython-input-3-9fe9c287e6c2>:32: DeprecationWarning: Call to deprecated method findAll. (Replaced by find_all) -- Deprecated since version 4.0.0.\n",
            "  cells = row.findAll(\"td\")\n"
          ]
        },
        {
          "output_type": "stream",
          "name": "stdout",
          "text": [
            "Descargando: https://www.tutiempo.net/clima/02-2023/ws-802220.html\n"
          ]
        },
        {
          "output_type": "stream",
          "name": "stderr",
          "text": [
            "<ipython-input-3-9fe9c287e6c2>:27: DeprecationWarning: Call to deprecated method findAll. (Replaced by find_all) -- Deprecated since version 4.0.0.\n",
            "  titles = [th.get_text(strip=True) for th in table.findAll(\"th\")]\n",
            "<ipython-input-3-9fe9c287e6c2>:28: DeprecationWarning: Call to deprecated method findAll. (Replaced by find_all) -- Deprecated since version 4.0.0.\n",
            "  rows = table.findAll(\"tr\")[1:]\n",
            "<ipython-input-3-9fe9c287e6c2>:32: DeprecationWarning: Call to deprecated method findAll. (Replaced by find_all) -- Deprecated since version 4.0.0.\n",
            "  cells = row.findAll(\"td\")\n"
          ]
        },
        {
          "output_type": "stream",
          "name": "stdout",
          "text": [
            "Descargando: https://www.tutiempo.net/clima/03-2023/ws-802220.html\n"
          ]
        },
        {
          "output_type": "stream",
          "name": "stderr",
          "text": [
            "<ipython-input-3-9fe9c287e6c2>:27: DeprecationWarning: Call to deprecated method findAll. (Replaced by find_all) -- Deprecated since version 4.0.0.\n",
            "  titles = [th.get_text(strip=True) for th in table.findAll(\"th\")]\n",
            "<ipython-input-3-9fe9c287e6c2>:28: DeprecationWarning: Call to deprecated method findAll. (Replaced by find_all) -- Deprecated since version 4.0.0.\n",
            "  rows = table.findAll(\"tr\")[1:]\n",
            "<ipython-input-3-9fe9c287e6c2>:32: DeprecationWarning: Call to deprecated method findAll. (Replaced by find_all) -- Deprecated since version 4.0.0.\n",
            "  cells = row.findAll(\"td\")\n"
          ]
        },
        {
          "output_type": "stream",
          "name": "stdout",
          "text": [
            "Descargando: https://www.tutiempo.net/clima/04-2023/ws-802220.html\n"
          ]
        },
        {
          "output_type": "stream",
          "name": "stderr",
          "text": [
            "<ipython-input-3-9fe9c287e6c2>:27: DeprecationWarning: Call to deprecated method findAll. (Replaced by find_all) -- Deprecated since version 4.0.0.\n",
            "  titles = [th.get_text(strip=True) for th in table.findAll(\"th\")]\n",
            "<ipython-input-3-9fe9c287e6c2>:28: DeprecationWarning: Call to deprecated method findAll. (Replaced by find_all) -- Deprecated since version 4.0.0.\n",
            "  rows = table.findAll(\"tr\")[1:]\n",
            "<ipython-input-3-9fe9c287e6c2>:32: DeprecationWarning: Call to deprecated method findAll. (Replaced by find_all) -- Deprecated since version 4.0.0.\n",
            "  cells = row.findAll(\"td\")\n"
          ]
        },
        {
          "output_type": "stream",
          "name": "stdout",
          "text": [
            "Descargando: https://www.tutiempo.net/clima/05-2023/ws-802220.html\n"
          ]
        },
        {
          "output_type": "stream",
          "name": "stderr",
          "text": [
            "<ipython-input-3-9fe9c287e6c2>:27: DeprecationWarning: Call to deprecated method findAll. (Replaced by find_all) -- Deprecated since version 4.0.0.\n",
            "  titles = [th.get_text(strip=True) for th in table.findAll(\"th\")]\n",
            "<ipython-input-3-9fe9c287e6c2>:28: DeprecationWarning: Call to deprecated method findAll. (Replaced by find_all) -- Deprecated since version 4.0.0.\n",
            "  rows = table.findAll(\"tr\")[1:]\n",
            "<ipython-input-3-9fe9c287e6c2>:32: DeprecationWarning: Call to deprecated method findAll. (Replaced by find_all) -- Deprecated since version 4.0.0.\n",
            "  cells = row.findAll(\"td\")\n"
          ]
        },
        {
          "output_type": "stream",
          "name": "stdout",
          "text": [
            "Descargando: https://www.tutiempo.net/clima/06-2023/ws-802220.html\n"
          ]
        },
        {
          "output_type": "stream",
          "name": "stderr",
          "text": [
            "<ipython-input-3-9fe9c287e6c2>:27: DeprecationWarning: Call to deprecated method findAll. (Replaced by find_all) -- Deprecated since version 4.0.0.\n",
            "  titles = [th.get_text(strip=True) for th in table.findAll(\"th\")]\n",
            "<ipython-input-3-9fe9c287e6c2>:28: DeprecationWarning: Call to deprecated method findAll. (Replaced by find_all) -- Deprecated since version 4.0.0.\n",
            "  rows = table.findAll(\"tr\")[1:]\n",
            "<ipython-input-3-9fe9c287e6c2>:32: DeprecationWarning: Call to deprecated method findAll. (Replaced by find_all) -- Deprecated since version 4.0.0.\n",
            "  cells = row.findAll(\"td\")\n"
          ]
        },
        {
          "output_type": "stream",
          "name": "stdout",
          "text": [
            "Descargando: https://www.tutiempo.net/clima/07-2023/ws-802220.html\n"
          ]
        },
        {
          "output_type": "stream",
          "name": "stderr",
          "text": [
            "<ipython-input-3-9fe9c287e6c2>:27: DeprecationWarning: Call to deprecated method findAll. (Replaced by find_all) -- Deprecated since version 4.0.0.\n",
            "  titles = [th.get_text(strip=True) for th in table.findAll(\"th\")]\n",
            "<ipython-input-3-9fe9c287e6c2>:28: DeprecationWarning: Call to deprecated method findAll. (Replaced by find_all) -- Deprecated since version 4.0.0.\n",
            "  rows = table.findAll(\"tr\")[1:]\n",
            "<ipython-input-3-9fe9c287e6c2>:32: DeprecationWarning: Call to deprecated method findAll. (Replaced by find_all) -- Deprecated since version 4.0.0.\n",
            "  cells = row.findAll(\"td\")\n"
          ]
        },
        {
          "output_type": "stream",
          "name": "stdout",
          "text": [
            "Descargando: https://www.tutiempo.net/clima/08-2023/ws-802220.html\n"
          ]
        },
        {
          "output_type": "stream",
          "name": "stderr",
          "text": [
            "<ipython-input-3-9fe9c287e6c2>:27: DeprecationWarning: Call to deprecated method findAll. (Replaced by find_all) -- Deprecated since version 4.0.0.\n",
            "  titles = [th.get_text(strip=True) for th in table.findAll(\"th\")]\n",
            "<ipython-input-3-9fe9c287e6c2>:28: DeprecationWarning: Call to deprecated method findAll. (Replaced by find_all) -- Deprecated since version 4.0.0.\n",
            "  rows = table.findAll(\"tr\")[1:]\n",
            "<ipython-input-3-9fe9c287e6c2>:32: DeprecationWarning: Call to deprecated method findAll. (Replaced by find_all) -- Deprecated since version 4.0.0.\n",
            "  cells = row.findAll(\"td\")\n"
          ]
        },
        {
          "output_type": "stream",
          "name": "stdout",
          "text": [
            "Descargando: https://www.tutiempo.net/clima/09-2023/ws-802220.html\n"
          ]
        },
        {
          "output_type": "stream",
          "name": "stderr",
          "text": [
            "<ipython-input-3-9fe9c287e6c2>:27: DeprecationWarning: Call to deprecated method findAll. (Replaced by find_all) -- Deprecated since version 4.0.0.\n",
            "  titles = [th.get_text(strip=True) for th in table.findAll(\"th\")]\n",
            "<ipython-input-3-9fe9c287e6c2>:28: DeprecationWarning: Call to deprecated method findAll. (Replaced by find_all) -- Deprecated since version 4.0.0.\n",
            "  rows = table.findAll(\"tr\")[1:]\n",
            "<ipython-input-3-9fe9c287e6c2>:32: DeprecationWarning: Call to deprecated method findAll. (Replaced by find_all) -- Deprecated since version 4.0.0.\n",
            "  cells = row.findAll(\"td\")\n"
          ]
        },
        {
          "output_type": "stream",
          "name": "stdout",
          "text": [
            "Descargando: https://www.tutiempo.net/clima/10-2023/ws-802220.html\n"
          ]
        },
        {
          "output_type": "stream",
          "name": "stderr",
          "text": [
            "<ipython-input-3-9fe9c287e6c2>:27: DeprecationWarning: Call to deprecated method findAll. (Replaced by find_all) -- Deprecated since version 4.0.0.\n",
            "  titles = [th.get_text(strip=True) for th in table.findAll(\"th\")]\n",
            "<ipython-input-3-9fe9c287e6c2>:28: DeprecationWarning: Call to deprecated method findAll. (Replaced by find_all) -- Deprecated since version 4.0.0.\n",
            "  rows = table.findAll(\"tr\")[1:]\n",
            "<ipython-input-3-9fe9c287e6c2>:32: DeprecationWarning: Call to deprecated method findAll. (Replaced by find_all) -- Deprecated since version 4.0.0.\n",
            "  cells = row.findAll(\"td\")\n"
          ]
        },
        {
          "output_type": "stream",
          "name": "stdout",
          "text": [
            "Descargando: https://www.tutiempo.net/clima/11-2023/ws-802220.html\n"
          ]
        },
        {
          "output_type": "stream",
          "name": "stderr",
          "text": [
            "<ipython-input-3-9fe9c287e6c2>:27: DeprecationWarning: Call to deprecated method findAll. (Replaced by find_all) -- Deprecated since version 4.0.0.\n",
            "  titles = [th.get_text(strip=True) for th in table.findAll(\"th\")]\n",
            "<ipython-input-3-9fe9c287e6c2>:28: DeprecationWarning: Call to deprecated method findAll. (Replaced by find_all) -- Deprecated since version 4.0.0.\n",
            "  rows = table.findAll(\"tr\")[1:]\n",
            "<ipython-input-3-9fe9c287e6c2>:32: DeprecationWarning: Call to deprecated method findAll. (Replaced by find_all) -- Deprecated since version 4.0.0.\n",
            "  cells = row.findAll(\"td\")\n"
          ]
        },
        {
          "output_type": "stream",
          "name": "stdout",
          "text": [
            "Descargando: https://www.tutiempo.net/clima/12-2023/ws-802220.html\n"
          ]
        },
        {
          "output_type": "stream",
          "name": "stderr",
          "text": [
            "<ipython-input-3-9fe9c287e6c2>:27: DeprecationWarning: Call to deprecated method findAll. (Replaced by find_all) -- Deprecated since version 4.0.0.\n",
            "  titles = [th.get_text(strip=True) for th in table.findAll(\"th\")]\n",
            "<ipython-input-3-9fe9c287e6c2>:28: DeprecationWarning: Call to deprecated method findAll. (Replaced by find_all) -- Deprecated since version 4.0.0.\n",
            "  rows = table.findAll(\"tr\")[1:]\n",
            "<ipython-input-3-9fe9c287e6c2>:32: DeprecationWarning: Call to deprecated method findAll. (Replaced by find_all) -- Deprecated since version 4.0.0.\n",
            "  cells = row.findAll(\"td\")\n"
          ]
        },
        {
          "output_type": "display_data",
          "data": {
            "text/plain": [
              "<Figure size 1200x600 with 1 Axes>"
            ],
            "image/png": "[encoded data removed]"
          },
          "metadata": {}
        },
        {
          "output_type": "display_data",
          "data": {
            "text/plain": [
              "<Figure size 1200x600 with 1 Axes>"
            ],
            "image/png": "[encoded data removed]"
          },
          "metadata": {}
        },
        {
          "output_type": "stream",
          "name": "stdout",
          "text": [
            "Archivo exportado exitosamente: clima_bogota_2022_2023.csv 🎉\n"
          ]
        }
      ],
      "source": [
        "import pandas as pd\n",
        "import matplotlib.pyplot as plt\n",
        "import seaborn as sns\n",
        "from urllib.request import urlopen\n",
        "from urllib.error import HTTPError, URLError\n",
        "from bs4 import BeautifulSoup\n",
        "import ipywidgets as widgets\n",
        "from IPython.display import display, clear_output\n",
        "\n",
        "sns.set(style=\"whitegrid\")\n",
        "plt.rcParams[\"figure.figsize\"] = (12, 6)\n",
        "\n",
        "def download_html_table(url):\n",
        "    try:\n",
        "        html = urlopen(url)\n",
        "    except (HTTPError, URLError) as e:\n",
        "        print(f\"Error cargando {url}: {e}\")\n",
        "        return None\n",
        "\n",
        "    soup = BeautifulSoup(html.read(), \"html.parser\")\n",
        "    table = soup.find(\"table\", {\"class\": \"medias\"})\n",
        "\n",
        "    if not table:\n",
        "        print(f\"No se encontró la tabla en: {url}\")\n",
        "        return None\n",
        "\n",
        "    titles = [th.get_text(strip=True) for th in table.findAll(\"th\")]\n",
        "    rows = table.findAll(\"tr\")[1:]\n",
        "\n",
        "    data = []\n",
        "    for row in rows:\n",
        "        cells = row.findAll(\"td\")\n",
        "        row_data = []\n",
        "        for cell in cells:\n",
        "            text = cell.get_text(strip=True).replace(\",\", \".\")\n",
        "            try:\n",
        "                value = float(text) if '-' not in text and text else 0\n",
        "            except ValueError:\n",
        "                value = text\n",
        "            row_data.append(value)\n",
        "        if row_data:\n",
        "            data.append(row_data)\n",
        "\n",
        "    df = pd.DataFrame(data=data, columns=titles[:len(data[0])])\n",
        "    return df\n",
        "\n",
        "def get_climate_data_for_years(station_code, start_year, end_year):\n",
        "    all_data = []\n",
        "    for year in range(start_year, end_year + 1):\n",
        "        for month in range(1, 13):\n",
        "            url = f\"https://www.tutiempo.net/clima/{month:02d}-{year}/ws-{station_code}.html\"\n",
        "            print(f\"Descargando: {url}\")\n",
        "            df = download_html_table(url)\n",
        "            if df is not None:\n",
        "                df[\"Año\"] = year\n",
        "                df[\"Mes\"] = month\n",
        "                all_data.append(df)\n",
        "    return pd.concat(all_data, ignore_index=True) if all_data else pd.DataFrame()\n",
        "\n",
        "def cargar_y_mostrar_datos(station_code, anio_inicio, anio_fin):\n",
        "    clear_output()\n",
        "    df_clima = get_climate_data_for_years(station_code, anio_inicio, anio_fin)\n",
        "\n",
        "    if df_clima.empty:\n",
        "        print(\"No se encontraron datos para el rango seleccionado.\")\n",
        "        return\n",
        "\n",
        "    df_clima.rename(columns=lambda x: x.strip().capitalize(), inplace=True)\n",
        "\n",
        "    for col in [\"T\", \"Tm\", \"Tn\", \"Humedad\", \"Velocidad del viento\", \"Presión\"]:\n",
        "        if col in df_clima.columns and df_clima[col].ndim == 1:\n",
        "            # Convert the column to string type first to handle mixed data types\n",
        "            df_clima[col] = df_clima[col].astype(str)\n",
        "            # Then apply pd.to_numeric with error handling\n",
        "            df_clima[col] = pd.to_numeric(df_clima[col], errors=\"coerce\")\n",
        "\n",
        "\n",
        "    # Visualización: Temperatura promedio mensual\n",
        "    df_grouped = df_clima.groupby([\"Año\", \"Mes\"])[\"T\"].mean().reset_index()\n",
        "\n",
        "    plt.plot(df_grouped[\"Mes\"], df_grouped[\"T\"], marker=\"o\")\n",
        "    plt.title(\"Temperatura Promedio Mensual\")\n",
        "    plt.xlabel(\"Mes\")\n",
        "    plt.ylabel(\"Temperatura (°C)\")\n",
        "    plt.grid(True)\n",
        "    plt.show()\n",
        "\n",
        "    # Visualización: Boxplot de temperatura por año\n",
        "    sns.boxplot(data=df_clima, x=\"Año\", y=\"T\")\n",
        "    plt.title(\"Distribución de Temperatura por Año\")\n",
        "    plt.show()\n",
        "\n",
        "    # Exportar a CSV\n",
        "    archivo = f\"clima_bogota_{anio_inicio}_{anio_fin}.csv\"\n",
        "    df_clima.to_csv(archivo, index=False)\n",
        "    print(f\"Archivo exportado exitosamente: {archivo} 🎉\")\n",
        "\n",
        "# Widgets interactivos\n",
        "anio_inicio = widgets.IntSlider(value=2022, min=2000, max=2025, description='Año inicio')\n",
        "anio_fin = widgets.IntSlider(value=2023, min=2000, max=2025, description='Año fin')\n",
        "boton = widgets.Button(description=\"Cargar datos\")\n",
        "\n",
        "ui = widgets.VBox([anio_inicio, anio_fin, boton])\n",
        "display(ui)\n",
        "\n",
        "def on_button_clicked(b):\n",
        "    cargar_y_mostrar_datos(\"802220\", anio_inicio.value, anio_fin.value)\n",
        "\n",
        "boton.on_click(on_button_clicked)\n"
      ]
    }
  ]
}